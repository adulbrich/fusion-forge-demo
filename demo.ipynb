{
 "cells": [
  {
   "cell_type": "markdown",
   "metadata": {},
   "source": [
    "## Forge Configuration"
   ]
  },
  {
   "cell_type": "code",
   "execution_count": null,
   "metadata": {},
   "outputs": [],
   "source": [
    "# conda activate kgforge\n",
    "import getpass\n",
    "import yaml\n",
    "import pandas as pd\n",
    "import numpy as np\n",
    "import nexussdk as nxs\n",
    "from kgforge.core import KnowledgeGraphForge\n",
    "from kgforge.core import Resource"
   ]
  },
  {
   "cell_type": "code",
   "execution_count": null,
   "metadata": {},
   "outputs": [],
   "source": [
    "ORGANIZATION = \"fusion-adulbrich\" # input your fusion org\n",
    "PROJECT = \"Flower-Classification\" # input your newly created fusion project\n",
    "DEPLOYMENT = \"https://staging.nexus.ocp.bbp.epfl.ch/v1\""
   ]
  },
  {
   "cell_type": "code",
   "execution_count": null,
   "metadata": {},
   "outputs": [],
   "source": [
    "TOKEN = getpass.getpass()"
   ]
  },
  {
   "cell_type": "code",
   "execution_count": null,
   "metadata": {},
   "outputs": [],
   "source": [
    "context = {\n",
    "  \"@id\": \"https://context.org\",\n",
    "  \"@context\": {\n",
    "    \"@vocab\": \"https://staging.nexus.ocp.bbp.epfl.ch/v1/vocabs/\",\n",
    "    \"schema\": \"http://schema.org/\",\n",
    "    \"prov\": \"http://www.w3.org/ns/\",\n",
    "    \"description\": {\n",
    "      \"@id\": \"http://schema.org/description\"\n",
    "    },\n",
    "    \"name\": {\n",
    "      \"@id\": \"http://schema.org/name\"\n",
    "    },\n",
    "    \"used\": {\n",
    "      \"@id\": \"http://www.w3.org/ns/prov#used\"\n",
    "    },\n",
    "    \"generated\": {\n",
    "      \"@id\": \"http://www.w3.org/ns/prov#generated\"\n",
    "    }\n",
    "  }\n",
    "}"
   ]
  },
  {
   "cell_type": "code",
   "execution_count": null,
   "metadata": {},
   "outputs": [],
   "source": [
    "nxs.config.set_environment(DEPLOYMENT)\n",
    "nxs.config.set_token(TOKEN)\n",
    "#nxs.resources.create(ORGANIZATION, PROJECT, context) #to run the first time if no context exists in your project"
   ]
  },
  {
   "cell_type": "code",
   "execution_count": null,
   "metadata": {},
   "outputs": [],
   "source": [
    "config = {\n",
    "    \"Model\": {\n",
    "        \"name\": \"RdfModel\",\n",
    "        \"origin\": \"store\",\n",
    "        \"source\": \"BlueBrainNexus\",\n",
    "        \"context\": {\n",
    "            \"iri\": \"https://context.org\",\n",
    "            \"bucket\": f\"{ORGANIZATION}/{PROJECT}\"\n",
    "        }\n",
    "    },\n",
    "    \"Store\": {\n",
    "        \"name\": \"BlueBrainNexus\",\n",
    "        \"endpoint\": DEPLOYMENT,\n",
    "        \"versioned_id_template\": \"{x.id}?rev={x._store_metadata._rev}\",\n",
    "        \"file_resource_mapping\": \"https://raw.githubusercontent.com/BlueBrain/nexus-forge/master/examples/configurations/nexus-store/file-to-resource-mapping.hjson\",\n",
    "    }\n",
    "}"
   ]
  },
  {
   "cell_type": "code",
   "execution_count": null,
   "metadata": {},
   "outputs": [],
   "source": [
    "forge = KnowledgeGraphForge(config, token=TOKEN, bucket=f\"{ORGANIZATION}/{PROJECT}\")"
   ]
  },
  {
   "cell_type": "markdown",
   "metadata": {},
   "source": [
    "## Step 1: Data Analysis"
   ]
  },
  {
   "cell_type": "code",
   "execution_count": null,
   "metadata": {},
   "outputs": [],
   "source": [
    "import pandas\n",
    "from pandas.plotting import scatter_matrix\n",
    "import matplotlib.pyplot as plt\n",
    "from sklearn import model_selection\n",
    "from sklearn.metrics import classification_report\n",
    "from sklearn.metrics import confusion_matrix\n",
    "from sklearn.metrics import accuracy_score\n",
    "from sklearn.linear_model import LogisticRegression\n",
    "from sklearn.tree import DecisionTreeClassifier\n",
    "from sklearn.neighbors import KNeighborsClassifier\n",
    "from sklearn.discriminant_analysis import LinearDiscriminantAnalysis\n",
    "from sklearn.naive_bayes import GaussianNB\n",
    "from sklearn.svm import SVC"
   ]
  },
  {
   "cell_type": "code",
   "execution_count": null,
   "metadata": {},
   "outputs": [],
   "source": [
    "dataset = pandas.read_csv('iris.csv')\n",
    "dataset"
   ]
  },
  {
   "cell_type": "code",
   "execution_count": null,
   "metadata": {},
   "outputs": [],
   "source": [
    "dataset.plot(kind='box', subplots=True, layout=(2,2), sharex=False, sharey=False)\n",
    "plt.savefig('boxplot.png')"
   ]
  },
  {
   "cell_type": "code",
   "execution_count": null,
   "metadata": {},
   "outputs": [],
   "source": [
    "dataset.hist()\n",
    "plt.savefig('histogram.png')"
   ]
  },
  {
   "cell_type": "code",
   "execution_count": null,
   "metadata": {},
   "outputs": [],
   "source": [
    "scatter_matrix(dataset)\n",
    "plt.savefig('scatter_matrix.png')"
   ]
  },
  {
   "cell_type": "markdown",
   "metadata": {},
   "source": [
    "### Register Datasets and Activity for Step 1"
   ]
  },
  {
   "cell_type": "code",
   "execution_count": null,
   "metadata": {},
   "outputs": [],
   "source": [
    "# input of step 1, 2, 3\n",
    "myfile = forge.attach(\"./iris.csv\")\n",
    "mydataset = Resource(type=\"http://schema.org/Dataset\", name=\"Iris Dataset 1\" , distribution=myfile)\n",
    "forge.register(mydataset)"
   ]
  },
  {
   "cell_type": "code",
   "execution_count": null,
   "metadata": {},
   "outputs": [],
   "source": [
    "# output of step 1\n",
    "myboxplot = forge.attach(\"./boxplot.png\")\n",
    "myboxplotdataset = Resource(type=\"http://schema.org/Dataset\", name=\"Iris Boxplot\" , distribution=myboxplot)\n",
    "forge.register(myboxplotdataset)"
   ]
  },
  {
   "cell_type": "code",
   "execution_count": null,
   "metadata": {},
   "outputs": [],
   "source": [
    "# output of step 1\n",
    "myhistogram = forge.attach(\"./histogram.png\")\n",
    "myhistogramdataset = Resource(type=\"http://schema.org/Dataset\", name=\"Iris Histogram\" , distribution=myhistogram)\n",
    "forge.register(myhistogramdataset)"
   ]
  },
  {
   "cell_type": "code",
   "execution_count": null,
   "metadata": {},
   "outputs": [],
   "source": [
    "# output of step 1\n",
    "myscatter = forge.attach(\"./scatter_matrix.png\")\n",
    "myscatterdataset = Resource(type=\"http://schema.org/Dataset\", name=\"Iris Scatter Matrix\" , distribution=myscatter)\n",
    "forge.register(myscatterdataset)"
   ]
  },
  {
   "cell_type": "code",
   "execution_count": null,
   "metadata": {},
   "outputs": [],
   "source": [
    "# activity of step 1: link manually in Fusion\n",
    "myfirstactivity = Resource(type=\"http://www.w3.org/ns/prov#Activity\", name=\"Data Analysis\", used=mydataset, generated=[myboxplotdataset,myhistogramdataset,myscatterdataset])\n",
    "forge.register(myfirstactivity) #does not work if the resource has an array of type [..., ...]"
   ]
  },
  {
   "cell_type": "markdown",
   "metadata": {},
   "source": [
    "## Step 2: Build Models"
   ]
  },
  {
   "cell_type": "markdown",
   "metadata": {},
   "source": [
    "### Train and Test Sets"
   ]
  },
  {
   "cell_type": "code",
   "execution_count": null,
   "metadata": {},
   "outputs": [],
   "source": [
    "array = dataset.values\n",
    "X = array[:,0:4]\n",
    "Y = array[:,4]\n",
    "validation_size = 0.20\n",
    "seed = 7\n",
    "X_train, X_validation, Y_train, Y_validation = model_selection.train_test_split(X, Y, test_size=validation_size, random_state=seed)"
   ]
  },
  {
   "cell_type": "markdown",
   "metadata": {},
   "source": [
    "### Models Definition and Running"
   ]
  },
  {
   "cell_type": "code",
   "execution_count": null,
   "metadata": {},
   "outputs": [],
   "source": [
    "scoring = 'accuracy'"
   ]
  },
  {
   "cell_type": "code",
   "execution_count": null,
   "metadata": {},
   "outputs": [],
   "source": [
    "%%capture cap --no-stderr\n",
    "models = []\n",
    "models.append(('LR', LogisticRegression(solver='lbfgs', max_iter=500)))\n",
    "models.append(('LDA', LinearDiscriminantAnalysis()))\n",
    "models.append(('KNN', KNeighborsClassifier()))\n",
    "models.append(('CART', DecisionTreeClassifier()))\n",
    "models.append(('NB', GaussianNB()))\n",
    "models.append(('SVM', SVC()))\n",
    "# evaluate each model in turn\n",
    "results = []\n",
    "names = []\n",
    "for name, model in models:\n",
    " kfold = model_selection.KFold(n_splits=10, random_state=seed, shuffle=True)\n",
    " cv_results = model_selection.cross_val_score(model, X_train, Y_train, cv=kfold, scoring=scoring)\n",
    " results.append(cv_results)\n",
    " names.append(name)\n",
    " msg = \"%s: %f (%f)\" % (name, cv_results.mean(), cv_results.std())\n",
    " print(msg)"
   ]
  },
  {
   "cell_type": "code",
   "execution_count": null,
   "metadata": {},
   "outputs": [],
   "source": [
    "with open('models.txt', 'w') as f:\n",
    "    f.write(cap.stdout)"
   ]
  },
  {
   "cell_type": "markdown",
   "metadata": {},
   "source": [
    "### Register Datasets and Activity for Step 2"
   ]
  },
  {
   "cell_type": "code",
   "execution_count": null,
   "metadata": {},
   "outputs": [],
   "source": [
    "# input of step 2\n",
    "myconfigdataset = Resource(type=\"http://schema.org/Dataset\", name=\"Models Configuration\", seed=seed, validation_size=validation_size, scoring=scoring)\n",
    "forge.register(myconfigdataset)"
   ]
  },
  {
   "cell_type": "code",
   "execution_count": null,
   "metadata": {},
   "outputs": [],
   "source": [
    "# output of step 2, input of step 3\n",
    "mymodels = forge.attach(\"./models.txt\")\n",
    "mymodelsdataset = Resource(type=\"http://schema.org/Dataset\", name=\"Model Accuracies\", distribution=mymodels)\n",
    "forge.register(mymodelsdataset)"
   ]
  },
  {
   "cell_type": "code",
   "execution_count": null,
   "metadata": {},
   "outputs": [],
   "source": [
    "# activity of step 2: link manually in Fusion\n",
    "mysecondactivity = Resource(type=\"http://www.w3.org/ns/prov#Activity\", name=\"Models Generation\", used=[mydataset,myconfigdataset], generated=mymodelsdataset) \n",
    "forge.register(mysecondactivity)"
   ]
  },
  {
   "cell_type": "markdown",
   "metadata": {},
   "source": [
    "## Step 3: Validation"
   ]
  },
  {
   "cell_type": "code",
   "execution_count": null,
   "metadata": {},
   "outputs": [],
   "source": [
    "%%capture cap --no-stderr\n",
    "knn = KNeighborsClassifier()\n",
    "knn.fit(X_train, Y_train)\n",
    "predictions = knn.predict(X_validation)\n",
    "print(accuracy_score(Y_validation, predictions))\n",
    "print(confusion_matrix(Y_validation, predictions))\n",
    "print(classification_report(Y_validation, predictions))"
   ]
  },
  {
   "cell_type": "code",
   "execution_count": null,
   "metadata": {},
   "outputs": [],
   "source": [
    "with open('knn-results.txt', 'w') as f:\n",
    "    f.write(cap.stdout)"
   ]
  },
  {
   "cell_type": "code",
   "execution_count": null,
   "metadata": {},
   "outputs": [],
   "source": [
    "%%capture cap --no-stderr\n",
    "lr = LogisticRegression(solver='lbfgs', max_iter=500)\n",
    "lr.fit(X_train, Y_train)\n",
    "predictions = lr.predict(X_validation)\n",
    "print(accuracy_score(Y_validation, predictions))\n",
    "print(confusion_matrix(Y_validation, predictions))\n",
    "print(classification_report(Y_validation, predictions))"
   ]
  },
  {
   "cell_type": "code",
   "execution_count": null,
   "metadata": {},
   "outputs": [],
   "source": [
    "with open('lr-results.txt', 'w') as f:\n",
    "    f.write(cap.stdout)"
   ]
  },
  {
   "cell_type": "code",
   "execution_count": null,
   "metadata": {},
   "outputs": [],
   "source": [
    "%%capture cap --no-stderr\n",
    "svn = SVC()\n",
    "svn.fit(X_train, Y_train)\n",
    "predictions = svn.predict(X_validation)\n",
    "print(accuracy_score(Y_validation, predictions))\n",
    "print(confusion_matrix(Y_validation, predictions))\n",
    "print(classification_report(Y_validation, predictions))"
   ]
  },
  {
   "cell_type": "code",
   "execution_count": null,
   "metadata": {},
   "outputs": [],
   "source": [
    "with open('svn-results.txt', 'w') as f:\n",
    "    f.write(cap.stdout)"
   ]
  },
  {
   "cell_type": "markdown",
   "metadata": {},
   "source": [
    "### Register Datasets and Activity for Step 3"
   ]
  },
  {
   "cell_type": "code",
   "execution_count": null,
   "metadata": {},
   "outputs": [],
   "source": [
    "# output of step 3\n",
    "myknn = forge.attach(\"./knn-results.txt\")\n",
    "myknndataset = Resource(type=\"http://schema.org/Dataset\", name=\"kNN Results\", distribution=myknn)\n",
    "forge.register(myknndataset)"
   ]
  },
  {
   "cell_type": "code",
   "execution_count": null,
   "metadata": {},
   "outputs": [],
   "source": [
    "# output of step 3\n",
    "mylr = forge.attach(\"./lr-results.txt\")\n",
    "mylrdataset = Resource(type=\"http://schema.org/Dataset\", name=\"Logistic Regression Results\", distribution=mylr)\n",
    "forge.register(mylrdataset)"
   ]
  },
  {
   "cell_type": "code",
   "execution_count": null,
   "metadata": {},
   "outputs": [],
   "source": [
    "# output of step 3\n",
    "mysvn = forge.attach(\"./svn-results.txt\")\n",
    "mysvndataset = Resource(type=\"http://schema.org/Dataset\", name=\"SVN Results\", distribution=mysvn)\n",
    "forge.register(mysvndataset)"
   ]
  },
  {
   "cell_type": "code",
   "execution_count": null,
   "metadata": {},
   "outputs": [],
   "source": [
    "# activity of step 3: link manually in Fusion\n",
    "mythirdactivity = Resource(type=\"http://www.w3.org/ns/prov#Activity\", name=\"Results of Best Models\", used=[mydataset,myconfigdataset,mymodelsdataset], generated=[myknndataset, mylrdataset, mysvndataset]) \n",
    "forge.register(mythirdactivity)"
   ]
  },
  {
   "cell_type": "code",
   "execution_count": null,
   "metadata": {},
   "outputs": [],
   "source": []
  },
  {
   "cell_type": "code",
   "execution_count": null,
   "metadata": {},
   "outputs": [],
   "source": [
    "# replace ID with the ID of your dataset in Nexus Fuson\n",
    "# you can go to your workflow step, to the input tab, and find the dataset previously uploaded\n",
    "# click on copy id\n",
    "temp = forge.retrieve(id=\"https://staging.nexus.ocp.bbp.epfl.ch/v1/resources/fusion-adulbrich/Flower-Classification/_/9f6f0f6c-7331-4023-a0cb-aa3561846794\")\n",
    "temp\n",
    "forge.download(temp, \"http://schema.org/distribution.http://schema.org/contentUrl\", \"./\")"
   ]
  }
 ],
 "metadata": {
  "kernelspec": {
   "display_name": "Python 3",
   "language": "python",
   "name": "python3"
  },
  "language_info": {
   "codemirror_mode": {
    "name": "ipython",
    "version": 3
   },
   "file_extension": ".py",
   "mimetype": "text/x-python",
   "name": "python",
   "nbconvert_exporter": "python",
   "pygments_lexer": "ipython3",
   "version": "3.9.0"
  }
 },
 "nbformat": 4,
 "nbformat_minor": 4
}